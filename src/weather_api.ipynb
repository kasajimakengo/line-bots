{
 "cells": [
  {
   "cell_type": "markdown",
   "metadata": {},
   "source": [
    "# アカウント登録し、API KEYを取得してください\n",
    "https://openweathermap.org/"
   ]
  },
  {
   "cell_type": "code",
   "execution_count": null,
   "metadata": {},
   "outputs": [],
   "source": [
    "import pandas as pd\n",
    "import requests\n",
    "\n",
    "def get_weather_api():\n",
    "    df = pd.read_json(\"../credentials.json\")\n",
    "    weather_api = df[\"weather\"][\"api_key\"]\n",
    "    return weather_api"
   ]
  },
  {
   "cell_type": "code",
   "execution_count": null,
   "metadata": {},
   "outputs": [],
   "source": [
    "def get_weather():\n",
    "    city_name = \"Tokyo\"\n",
    "    API_KEY = get_weather_api()\n",
    "\n",
    "    url = f'http://api.openweathermap.org/data/2.5/weather?units=metric&q={city_name}&APPID={API_KEY}'\n",
    "    response = requests.get(url)\n",
    "    data = response.json()\n",
    "    weather = {}\n",
    "    weather['天気'] = data[\"weather\"][0][\"icon\"]\n",
    "    weather['気温'] = f'{data[\"main\"][\"temp\"]}度'\n",
    "    weather['最低気温'] = f'{data[\"main\"][\"temp_min\"]}度'\n",
    "    weather['最高気温'] = f'{data[\"main\"][\"temp_max\"]}度'\n",
    "\n",
    "    if weather['天気'] == '01n' or weather['天気'] == '01d':\n",
    "        weather['天気'] = '快晴'\n",
    "    elif weather['天気'] == '02n' or weather['天気'] == '02d':\n",
    "        weather['天気'] = '晴れ'\n",
    "    elif weather['天気'] == '03n' or weather['天気'] == '03d':\n",
    "        weather['天気'] = '曇り'\n",
    "    elif weather['天気'] == '04n' or weather['天気'] == '04d':\n",
    "        weather['天気'] = '曇り'\n",
    "    elif weather['天気'] == '09n' or weather['天気'] == '09d':\n",
    "        weather['天気'] = '小雨'\n",
    "    elif weather['天気'] == '10n' or weather['天気'] == '10d':\n",
    "        weather['天気'] = '雨'\n",
    "    elif weather['天気'] == '11n' or weather['天気'] == '11d':\n",
    "        weather['天気'] = '雷雨'\n",
    "    elif weather['天気'] == '13n' or weather['天気'] == '13d':\n",
    "        weather['天気'] = '雪'\n",
    "    elif weather['天気'] == '50n' or weather['天気']['天気'] == '50d':\n",
    "        weather['天気'] = '霧'\n",
    "\n",
    "    return f'天気: {weather[\"天気\"]}\\n気温: {weather[\"気温\"]}\\n最低気温: {weather[\"最低気温\"]}\\n最高気温: {weather[\"最高気温\"]}'"
   ]
  },
  {
   "cell_type": "code",
   "execution_count": null,
   "metadata": {},
   "outputs": [],
   "source": []
  }
 ],
 "metadata": {
  "kernelspec": {
   "display_name": "Python 3",
   "language": "python",
   "name": "python3"
  },
  "language_info": {
   "codemirror_mode": {
    "name": "ipython",
    "version": 3
   },
   "file_extension": ".py",
   "mimetype": "text/x-python",
   "name": "python",
   "nbconvert_exporter": "python",
   "pygments_lexer": "ipython3",
   "version": "3.7.4"
  }
 },
 "nbformat": 4,
 "nbformat_minor": 2
}

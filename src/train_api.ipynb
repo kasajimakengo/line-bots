{
 "cells": [
  {
   "cell_type": "code",
   "execution_count": null,
   "metadata": {},
   "outputs": [],
   "source": [
    "import urllib.request as req\n",
    "import sys\n",
    "from bs4 import BeautifulSoup\n",
    "    \n",
    "def get_yamanote_line():\n",
    "    url = \"https://transit.yahoo.co.jp/traininfo/detail/21/0/\"\n",
    "    res = req.urlopen(url)\n",
    "    soup = BeautifulSoup(res, \"lxml\") \n",
    "    train = soup.select_one(\"#main > div.mainWrp > div.labelLarge > h1\").text\n",
    "    status = soup.select_one(\"#mdServiceStatus > dl > dt\").text\n",
    "    if not status == \"[○]平常運転\":\n",
    "        info = soup.select_one(\"#mdServiceStatus > dl > dd > p\").text\n",
    "        status = status + \"\\n  \" + info\n",
    "\n",
    "    return f'{train}: {status}'"
   ]
  }
 ],
 "metadata": {
  "kernelspec": {
   "display_name": "Python 3",
   "language": "python",
   "name": "python3"
  },
  "language_info": {
   "codemirror_mode": {
    "name": "ipython",
    "version": 3
   },
   "file_extension": ".py",
   "mimetype": "text/x-python",
   "name": "python",
   "nbconvert_exporter": "python",
   "pygments_lexer": "ipython3",
   "version": "3.7.4"
  }
 },
 "nbformat": 4,
 "nbformat_minor": 2
}
